{
 "cells": [
  {
   "cell_type": "markdown",
   "metadata": {},
   "source": [
    "## S14a: Lab 2 - Pandas\n",
    "\n",
    "Pandas plays nicely with Numpy, making a nice transition from previous work with n-shaped arrays. In this notebook we will be two structures for combining data: Series and DataFrames.\n",
    "\n",
    "In this notebook, we are offering just a glimpse into Pandas before moving on to application in an example. It's worth learning more outside of lab: if you've only got 10min, go [here](https://pandas.pydata.org/docs/getting_started/10min.html); otherwise check out the learning [options](https://pandas.pydata.org/docs/getting_started/intro_tutorials/index.html). Much of this can be learned piecemeal through practical experience cleaning and pre-processing data."
   ]
  },
  {
   "cell_type": "markdown",
   "metadata": {},
   "source": [
    "### Building a data structure: starting with [Series](https://pandas.pydata.org/docs/reference/api/pandas.Series.html?highlight=series#pandas.Series)"
   ]
  },
  {
   "cell_type": "code",
   "execution_count": 1,
   "metadata": {},
   "outputs": [],
   "source": [
    "# First import libraries\n",
    "\n",
    "import numpy as np\n",
    "import pandas as pd"
   ]
  },
  {
   "cell_type": "code",
   "execution_count": 3,
   "metadata": {},
   "outputs": [
    {
     "name": "stdout",
     "output_type": "stream",
     "text": [
      "[5 3 9 8 1]\n",
      "Auto increment:\n",
      "0    5\n",
      "1    3\n",
      "2    9\n",
      "3    8\n",
      "4    1\n",
      "dtype: int64\n",
      "\n",
      "Manual increment:\n",
      "rad    5\n",
      "bad    3\n",
      "sad    9\n",
      "mad    8\n",
      "fad    1\n",
      "dtype: int64\n"
     ]
    }
   ],
   "source": [
    "# Scenario 1: Rustle up some simple key-value mock data\n",
    "keys = ['rad', 'bad', 'sad', 'mad', 'fad']\n",
    "values = np.random.randint(1, 11, len(keys))\n",
    "print(values)\n",
    "\n",
    "# Connect with pandas Series(data=None, index=None, dtype=None, name=None, copy=False, fastpath=False)\n",
    "data_auto_i = pd.Series(values)\n",
    "print('Auto increment:')\n",
    "print(data_auto_i)\n",
    "data_manu_i = pd.Series(values, keys)\n",
    "print('\\nManual increment:')\n",
    "print(data_manu_i)"
   ]
  },
  {
   "cell_type": "code",
   "execution_count": 4,
   "metadata": {},
   "outputs": [
    {
     "name": "stdout",
     "output_type": "stream",
     "text": [
      "9\n",
      "9\n"
     ]
    }
   ],
   "source": [
    "# Find particular value by index/key\n",
    "\n",
    "print(data_auto_i[2])\n",
    "print(data_manu_i['sad'])"
   ]
  },
  {
   "cell_type": "code",
   "execution_count": 5,
   "metadata": {
    "pycharm": {
     "name": "#%%\n"
    }
   },
   "outputs": [
    {
     "data": {
      "text/plain": [
       "0    {'name': 'Zona', 'color': 'red', 'intensity': ...\n",
       "1    {'name': 'Aleksander', 'color': 'green', 'inte...\n",
       "2    {'name': 'Fred', 'color': 'blue', 'intensity':...\n",
       "3    {'name': 'Brian', 'color': 'cyan', 'intensity'...\n",
       "4    {'name': 'Jared', 'color': 'magenta', 'intensi...\n",
       "dtype: object"
      ]
     },
     "execution_count": 5,
     "metadata": {},
     "output_type": "execute_result"
    }
   ],
   "source": [
    "# Scenario 2: Rustle up data using dictionaries\n",
    "\n",
    "arr_dicts = [\n",
    "    {'name': 'Zona', 'color': 'red', 'intensity': np.random.randint(0, 256)},\n",
    "    {'name': 'Aleksander', 'color': 'green', 'intensity': np.random.randint(0, 256)},\n",
    "    {'name': 'Fred', 'color': 'blue', 'intensity': np.random.randint(0, 256)},\n",
    "    {'name': 'Brian', 'color': 'cyan', 'intensity': np.random.randint(0, 256)},\n",
    "    {'name': 'Jared', 'color': 'magenta', 'intensity:': np.random.randint(0, 256)}\n",
    "]\n",
    "teamdata1 = pd.Series(arr_dicts)\n",
    "teamdata1"
   ]
  },
  {
   "cell_type": "code",
   "execution_count": 6,
   "metadata": {},
   "outputs": [
    {
     "data": {
      "text/plain": [
       "{'color': 'red', 'intensity': 138, 'name': 'Zona'}"
      ]
     },
     "execution_count": 6,
     "metadata": {},
     "output_type": "execute_result"
    }
   ],
   "source": [
    "teamdata1[0]"
   ]
  },
  {
   "cell_type": "markdown",
   "metadata": {},
   "source": [
    "### Excel-esque with [Dataframes](https://pandas.pydata.org/docs/reference/api/pandas.DataFrame.html?highlight=dataframe#pandas.DataFrame)"
   ]
  },
  {
   "cell_type": "code",
   "execution_count": 7,
   "metadata": {},
   "outputs": [
    {
     "data": {
      "text/html": [
       "<div>\n",
       "<style scoped>\n",
       "    .dataframe tbody tr th:only-of-type {\n",
       "        vertical-align: middle;\n",
       "    }\n",
       "\n",
       "    .dataframe tbody tr th {\n",
       "        vertical-align: top;\n",
       "    }\n",
       "\n",
       "    .dataframe thead th {\n",
       "        text-align: right;\n",
       "    }\n",
       "</style>\n",
       "<table border=\"1\" class=\"dataframe\">\n",
       "  <thead>\n",
       "    <tr style=\"text-align: right;\">\n",
       "      <th></th>\n",
       "      <th>a</th>\n",
       "      <th>b</th>\n",
       "      <th>c</th>\n",
       "      <th>d</th>\n",
       "      <th>e</th>\n",
       "    </tr>\n",
       "  </thead>\n",
       "  <tbody>\n",
       "    <tr>\n",
       "      <th>1</th>\n",
       "      <td>70</td>\n",
       "      <td>75</td>\n",
       "      <td>57</td>\n",
       "      <td>80</td>\n",
       "      <td>80</td>\n",
       "    </tr>\n",
       "    <tr>\n",
       "      <th>2</th>\n",
       "      <td>66</td>\n",
       "      <td>5</td>\n",
       "      <td>6</td>\n",
       "      <td>95</td>\n",
       "      <td>96</td>\n",
       "    </tr>\n",
       "    <tr>\n",
       "      <th>3</th>\n",
       "      <td>26</td>\n",
       "      <td>13</td>\n",
       "      <td>42</td>\n",
       "      <td>91</td>\n",
       "      <td>66</td>\n",
       "    </tr>\n",
       "  </tbody>\n",
       "</table>\n",
       "</div>"
      ],
      "text/plain": [
       "    a   b   c   d   e\n",
       "1  70  75  57  80  80\n",
       "2  66   5   6  95  96\n",
       "3  26  13  42  91  66"
      ]
     },
     "execution_count": 7,
     "metadata": {},
     "output_type": "execute_result"
    }
   ],
   "source": [
    "# Some extractions\n",
    "rows = np.array(['1', '2', '3'])\n",
    "cols = np.array(['a', 'b', 'c', 'd', 'e'])\n",
    "\n",
    "# To random Dataframe\n",
    "dataframe = pd.DataFrame(np.random.randint(1, 101, (len(rows), len(cols))), rows, cols)\n",
    "dataframe"
   ]
  },
  {
   "cell_type": "code",
   "execution_count": 15,
   "metadata": {},
   "outputs": [
    {
     "name": "stdout",
     "output_type": "stream",
     "text": [
      "COL:\n",
      "1    57\n",
      "2     6\n",
      "3    42\n",
      "Name: c, dtype: int64\n",
      "\n",
      "POS:\n",
      "6\n",
      "\n",
      "row\n",
      "a    66\n",
      "b     5\n",
      "c     6\n",
      "d    95\n",
      "e    96\n",
      "Name: 2, dtype: int64\n"
     ]
    }
   ],
   "source": [
    "# Grab a col\n",
    "\n",
    "print('COL:')\n",
    "print(dataframe['c'])\n",
    "\n",
    "# Grab a value\n",
    "\n",
    "print('\\nPOS:')\n",
    "print(dataframe['c']['2'])\n",
    "\n",
    "# row\n",
    "print('\\nrow')\n",
    "print(dataframe.iloc[1,:])"
   ]
  },
  {
   "cell_type": "code",
   "execution_count": 22,
   "metadata": {},
   "outputs": [
    {
     "name": "stdout",
     "output_type": "stream",
     "text": [
      "    a   b\n",
      "1  70  75\n",
      "2  66   5\n"
     ]
    }
   ],
   "source": [
    "# !!!YOUR TURN!!!\n",
    "\n",
    "# Slicing! Grab the first 2 rows and first 2 cols from dataframe\n",
    "print(dataframe[0:2][['a', 'b']])\n"
   ]
  },
  {
   "cell_type": "markdown",
   "metadata": {},
   "source": [
    "### Change gears\n",
    "\n",
    "There is alot to learn about pandas - but you will learn more by example in the next notebook."
   ]
  }
 ],
 "metadata": {
  "kernelspec": {
   "display_name": "Python 3",
   "language": "python",
   "name": "python3"
  },
  "language_info": {
   "codemirror_mode": {
    "name": "ipython",
    "version": 3
   },
   "file_extension": ".py",
   "mimetype": "text/x-python",
   "name": "python",
   "nbconvert_exporter": "python",
   "pygments_lexer": "ipython3",
   "version": "3.6.10"
  }
 },
 "nbformat": 4,
 "nbformat_minor": 4
}
